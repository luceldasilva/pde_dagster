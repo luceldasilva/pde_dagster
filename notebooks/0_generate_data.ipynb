{
 "cells": [
  {
   "cell_type": "code",
   "execution_count": 1,
   "metadata": {},
   "outputs": [
    {
     "name": "stdout",
     "output_type": "stream",
     "text": [
      "Requirement already satisfied: pytest==7.2.0 in c:\\users\\user\\documents\\lucelprojects\\pde_dagster\\venv\\lib\\site-packages (from -r requirements.txt (line 1)) (7.2.0)\n",
      "Requirement already satisfied: pandas_datareader==0.10.0 in c:\\users\\user\\documents\\lucelprojects\\pde_dagster\\venv\\lib\\site-packages (from -r requirements.txt (line 2)) (0.10.0)\n",
      "Requirement already satisfied: openpyxl==3.1.2 in c:\\users\\user\\documents\\lucelprojects\\pde_dagster\\venv\\lib\\site-packages (from -r requirements.txt (line 3)) (3.1.2)\n",
      "Requirement already satisfied: yfinance in c:\\users\\user\\documents\\lucelprojects\\pde_dagster\\venv\\lib\\site-packages (from -r requirements.txt (line 4)) (0.2.27)\n",
      "Requirement already satisfied: sqlalchemy in c:\\users\\user\\documents\\lucelprojects\\pde_dagster\\venv\\lib\\site-packages (from -r requirements.txt (line 5)) (2.0.19)\n",
      "Requirement already satisfied: geopy in c:\\users\\user\\documents\\lucelprojects\\pde_dagster\\venv\\lib\\site-packages (from -r requirements.txt (line 6)) (2.3.0)\n",
      "Requirement already satisfied: attrs>=19.2.0 in c:\\users\\user\\documents\\lucelprojects\\pde_dagster\\venv\\lib\\site-packages (from pytest==7.2.0->-r requirements.txt (line 1)) (23.1.0)\n",
      "Requirement already satisfied: iniconfig in c:\\users\\user\\documents\\lucelprojects\\pde_dagster\\venv\\lib\\site-packages (from pytest==7.2.0->-r requirements.txt (line 1)) (2.0.0)\n",
      "Requirement already satisfied: packaging in c:\\users\\user\\documents\\lucelprojects\\pde_dagster\\venv\\lib\\site-packages (from pytest==7.2.0->-r requirements.txt (line 1)) (23.1)\n",
      "Requirement already satisfied: pluggy<2.0,>=0.12 in c:\\users\\user\\documents\\lucelprojects\\pde_dagster\\venv\\lib\\site-packages (from pytest==7.2.0->-r requirements.txt (line 1)) (1.2.0)\n",
      "Requirement already satisfied: colorama in c:\\users\\user\\documents\\lucelprojects\\pde_dagster\\venv\\lib\\site-packages (from pytest==7.2.0->-r requirements.txt (line 1)) (0.4.6)\n",
      "Requirement already satisfied: lxml in c:\\users\\user\\documents\\lucelprojects\\pde_dagster\\venv\\lib\\site-packages (from pandas_datareader==0.10.0->-r requirements.txt (line 2)) (4.9.3)\n",
      "Requirement already satisfied: pandas>=0.23 in c:\\users\\user\\documents\\lucelprojects\\pde_dagster\\venv\\lib\\site-packages (from pandas_datareader==0.10.0->-r requirements.txt (line 2)) (2.0.3)\n",
      "Requirement already satisfied: requests>=2.19.0 in c:\\users\\user\\documents\\lucelprojects\\pde_dagster\\venv\\lib\\site-packages (from pandas_datareader==0.10.0->-r requirements.txt (line 2)) (2.31.0)\n",
      "Requirement already satisfied: et-xmlfile in c:\\users\\user\\documents\\lucelprojects\\pde_dagster\\venv\\lib\\site-packages (from openpyxl==3.1.2->-r requirements.txt (line 3)) (1.1.0)\n",
      "Requirement already satisfied: numpy>=1.16.5 in c:\\users\\user\\documents\\lucelprojects\\pde_dagster\\venv\\lib\\site-packages (from yfinance->-r requirements.txt (line 4)) (1.25.2)\n",
      "Requirement already satisfied: multitasking>=0.0.7 in c:\\users\\user\\documents\\lucelprojects\\pde_dagster\\venv\\lib\\site-packages (from yfinance->-r requirements.txt (line 4)) (0.0.11)\n",
      "Requirement already satisfied: appdirs>=1.4.4 in c:\\users\\user\\documents\\lucelprojects\\pde_dagster\\venv\\lib\\site-packages (from yfinance->-r requirements.txt (line 4)) (1.4.4)\n",
      "Requirement already satisfied: pytz>=2022.5 in c:\\users\\user\\documents\\lucelprojects\\pde_dagster\\venv\\lib\\site-packages (from yfinance->-r requirements.txt (line 4)) (2023.3)\n",
      "Requirement already satisfied: frozendict>=2.3.4 in c:\\users\\user\\documents\\lucelprojects\\pde_dagster\\venv\\lib\\site-packages (from yfinance->-r requirements.txt (line 4)) (2.3.8)\n",
      "Requirement already satisfied: beautifulsoup4>=4.11.1 in c:\\users\\user\\documents\\lucelprojects\\pde_dagster\\venv\\lib\\site-packages (from yfinance->-r requirements.txt (line 4)) (4.12.2)\n",
      "Requirement already satisfied: html5lib>=1.1 in c:\\users\\user\\documents\\lucelprojects\\pde_dagster\\venv\\lib\\site-packages (from yfinance->-r requirements.txt (line 4)) (1.1)\n",
      "Requirement already satisfied: typing-extensions>=4.2.0 in c:\\users\\user\\documents\\lucelprojects\\pde_dagster\\venv\\lib\\site-packages (from sqlalchemy->-r requirements.txt (line 5)) (4.7.1)\n",
      "Requirement already satisfied: greenlet!=0.4.17 in c:\\users\\user\\documents\\lucelprojects\\pde_dagster\\venv\\lib\\site-packages (from sqlalchemy->-r requirements.txt (line 5)) (2.0.2)\n",
      "Requirement already satisfied: geographiclib<3,>=1.52 in c:\\users\\user\\documents\\lucelprojects\\pde_dagster\\venv\\lib\\site-packages (from geopy->-r requirements.txt (line 6)) (2.0)\n",
      "Requirement already satisfied: soupsieve>1.2 in c:\\users\\user\\documents\\lucelprojects\\pde_dagster\\venv\\lib\\site-packages (from beautifulsoup4>=4.11.1->yfinance->-r requirements.txt (line 4)) (2.4.1)\n",
      "Requirement already satisfied: six>=1.9 in c:\\users\\user\\documents\\lucelprojects\\pde_dagster\\venv\\lib\\site-packages (from html5lib>=1.1->yfinance->-r requirements.txt (line 4)) (1.16.0)\n",
      "Requirement already satisfied: webencodings in c:\\users\\user\\documents\\lucelprojects\\pde_dagster\\venv\\lib\\site-packages (from html5lib>=1.1->yfinance->-r requirements.txt (line 4)) (0.5.1)\n",
      "Requirement already satisfied: python-dateutil>=2.8.2 in c:\\users\\user\\documents\\lucelprojects\\pde_dagster\\venv\\lib\\site-packages (from pandas>=0.23->pandas_datareader==0.10.0->-r requirements.txt (line 2)) (2.8.2)\n",
      "Requirement already satisfied: tzdata>=2022.1 in c:\\users\\user\\documents\\lucelprojects\\pde_dagster\\venv\\lib\\site-packages (from pandas>=0.23->pandas_datareader==0.10.0->-r requirements.txt (line 2)) (2023.3)\n",
      "Requirement already satisfied: charset-normalizer<4,>=2 in c:\\users\\user\\documents\\lucelprojects\\pde_dagster\\venv\\lib\\site-packages (from requests>=2.19.0->pandas_datareader==0.10.0->-r requirements.txt (line 2)) (3.2.0)\n",
      "Requirement already satisfied: idna<4,>=2.5 in c:\\users\\user\\documents\\lucelprojects\\pde_dagster\\venv\\lib\\site-packages (from requests>=2.19.0->pandas_datareader==0.10.0->-r requirements.txt (line 2)) (3.4)\n",
      "Requirement already satisfied: urllib3<3,>=1.21.1 in c:\\users\\user\\documents\\lucelprojects\\pde_dagster\\venv\\lib\\site-packages (from requests>=2.19.0->pandas_datareader==0.10.0->-r requirements.txt (line 2)) (1.26.16)\n",
      "Requirement already satisfied: certifi>=2017.4.17 in c:\\users\\user\\documents\\lucelprojects\\pde_dagster\\venv\\lib\\site-packages (from requests>=2.19.0->pandas_datareader==0.10.0->-r requirements.txt (line 2)) (2023.7.22)\n"
     ]
    }
   ],
   "source": [
    "# Instalando requiments\n",
    "!pip install -r requirements.txt"
   ]
  },
  {
   "cell_type": "code",
   "execution_count": 2,
   "metadata": {
    "cell_id": "e276f3e8e50447abb166579993473d64",
    "deepnote_cell_type": "code",
    "deepnote_to_be_reexecuted": false,
    "execution_millis": 28,
    "execution_start": 1691021220040,
    "source_hash": null,
    "tags": []
   },
   "outputs": [],
   "source": [
    "#import sys\n",
    "#sys.path.append(\"/work\")\n",
    "\n",
    "import os\n",
    "import decouple\n",
    "import sqlalchemy\n",
    "import pandas as pd\n",
    "from uuid import uuid4\n",
    "from pathlib import Path\n",
    "import pandas_datareader.data as web\n",
    "import yfinance as yf\n",
    "from datetime import datetime, timedelta\n",
    "from random import randint, random\n",
    "from numpy.random import choice"
   ]
  },
  {
   "cell_type": "code",
   "execution_count": 3,
   "metadata": {},
   "outputs": [],
   "source": [
    "# Set it to False if running in Deepnote, and True if running locally using Jupyter\n",
    "is_local = True"
   ]
  },
  {
   "cell_type": "code",
   "execution_count": 4,
   "metadata": {
    "cell_id": "f83d0de1ac30486ab88b72f91624ab3c",
    "deepnote_cell_type": "code",
    "deepnote_to_be_reexecuted": false,
    "execution_millis": 24,
    "execution_start": 1691019861604,
    "source_hash": null,
    "tags": []
   },
   "outputs": [],
   "source": [
    "# Including constants here instead of importing it, so this notebook is self-contained and can be downloaded\n",
    "# and run locally\n",
    "\n",
    "TAX_RATE = 0.05\n",
    "\n",
    "PAYMENT_METHODS = [\"cash\", \"credit\", \"debit\"]\n",
    "\n",
    "LOCATIONS = [\"Bangor, ME\", \"Concord, NH\", \"Portland, ME\", \"Portsmouth, NH\"]\n",
    "\n",
    "EMPLOYEES = [\"james\", \"sarah\", \"carmen\", \"peter\"]\n",
    "\n",
    "PRODUCTS = {\n",
    "    24625356: \"strawberries\",\n",
    "    98320088: \"blueberries\",\n",
    "    83846512: \"blackberries\",\n",
    "    98623454: \"blackcurrants\",\n",
    "    87245676: \"salmonberries\",\n",
    "    12635273: \"raspberries\",\n",
    "}\n",
    "\n",
    "UNIT_PRICES = {24625356: 6.99, 98320088: 8.99, 83846512: 4.99, 98623454: 3.49, 87245676: 10.99, 12635273: 10.49}\n"
   ]
  },
  {
   "cell_type": "code",
   "execution_count": 5,
   "metadata": {},
   "outputs": [],
   "source": [
    "config = decouple.AutoConfig(' ')"
   ]
  },
  {
   "cell_type": "code",
   "execution_count": 6,
   "metadata": {},
   "outputs": [],
   "source": [
    "engine = config('PG_CONN')"
   ]
  },
  {
   "cell_type": "markdown",
   "metadata": {
    "cell_id": "43dfa74a8b284113bcd34985f366af7c",
    "deepnote_cell_type": "markdown",
    "tags": []
   },
   "source": [
    "## Create `products` table\n",
    "This table wil contain a (short) list of products, with names, SKUs (Stock Keeping Unit, basically a product ID), and unit price."
   ]
  },
  {
   "cell_type": "code",
   "execution_count": 7,
   "metadata": {
    "cell_id": "8ed45ff1c1354f12bf33d34d697788d9",
    "deepnote_cell_type": "code",
    "deepnote_to_be_reexecuted": false,
    "execution_millis": 942,
    "execution_start": 1691019861918,
    "source_hash": null,
    "tags": []
   },
   "outputs": [
    {
     "data": {
      "text/plain": [
       "6"
      ]
     },
     "execution_count": 7,
     "metadata": {},
     "output_type": "execute_result"
    }
   ],
   "source": [
    "products_df = pd.DataFrame.from_dict({\n",
    "    \"sku\": PRODUCTS.keys(),\n",
    "    \"name\": PRODUCTS.values(),\n",
    "    \"unit_price\": UNIT_PRICES.values()\n",
    "})\n",
    "products_df.to_sql(\n",
    "    name=\"products\",\n",
    "    con=engine,\n",
    "    if_exists=\"replace\"  # If the table already exists, drop and replace it\n",
    ")"
   ]
  },
  {
   "cell_type": "markdown",
   "metadata": {
    "cell_id": "a7635f22f9fd4275b142b58492aba5a2",
    "deepnote_cell_type": "markdown",
    "tags": []
   },
   "source": [
    "## Create `pos_transactions` table\n",
    "These transactions represent records generated by an online Point-Of-Sale terminal. Since there is no manual process involved, the data should not contain malformed cells."
   ]
  },
  {
   "cell_type": "code",
   "execution_count": 8,
   "metadata": {
    "cell_id": "62882f1e3690421aacf5ad25ec9662a3",
    "deepnote_cell_type": "code",
    "deepnote_to_be_reexecuted": false,
    "execution_millis": 11,
    "execution_start": 1691019862857,
    "source_hash": null,
    "tags": []
   },
   "outputs": [],
   "source": [
    "def next_timestamp(ts):\n",
    "    \"\"\"\n",
    "    A function that takes a timestamp, adds a random amount of minutes to it, and returns the new timestamp.\n",
    "    It also ensures that the returned time is within working hours, so the generated data is more realistic.\n",
    "    \"\"\"\n",
    "    # Add a random amount of minutes\n",
    "    ts += timedelta(minutes=randint(1, 59))\n",
    "\n",
    "    # Keep adding time until we get a timestamp within working hours\n",
    "    while ts.hour < 8 or 18 < ts.hour:\n",
    "        ts += timedelta(minutes=randint(1, 59))\n",
    "        \n",
    "    return ts"
   ]
  },
  {
   "cell_type": "code",
   "execution_count": 9,
   "metadata": {
    "cell_id": "1ebce5f211e94152ae922ad6c1637670",
    "deepnote_cell_type": "code",
    "deepnote_table_loading": false,
    "deepnote_table_state": {
     "filters": [],
     "pageIndex": 2,
     "pageSize": 10,
     "sortBy": []
    },
    "deepnote_to_be_reexecuted": false,
    "execution_millis": 3157,
    "execution_start": 1691019862871,
    "source_hash": null,
    "tags": []
   },
   "outputs": [
    {
     "data": {
      "text/html": [
       "<div>\n",
       "<style scoped>\n",
       "    .dataframe tbody tr th:only-of-type {\n",
       "        vertical-align: middle;\n",
       "    }\n",
       "\n",
       "    .dataframe tbody tr th {\n",
       "        vertical-align: top;\n",
       "    }\n",
       "\n",
       "    .dataframe thead th {\n",
       "        text-align: right;\n",
       "    }\n",
       "</style>\n",
       "<table border=\"1\" class=\"dataframe\">\n",
       "  <thead>\n",
       "    <tr style=\"text-align: right;\">\n",
       "      <th></th>\n",
       "      <th>transaction_id</th>\n",
       "      <th>created_at</th>\n",
       "      <th>location</th>\n",
       "      <th>sku</th>\n",
       "      <th>payment_method</th>\n",
       "      <th>unit_price</th>\n",
       "      <th>quantity</th>\n",
       "      <th>tax</th>\n",
       "      <th>total</th>\n",
       "    </tr>\n",
       "  </thead>\n",
       "  <tbody>\n",
       "    <tr>\n",
       "      <th>0</th>\n",
       "      <td>0c53ce04-6185-4976-9f51-12222681a25b</td>\n",
       "      <td>2020-01-01 08:06:00</td>\n",
       "      <td>Portland, ME</td>\n",
       "      <td>83846512</td>\n",
       "      <td>debit</td>\n",
       "      <td>4.99</td>\n",
       "      <td>21</td>\n",
       "      <td>5.24</td>\n",
       "      <td>110.03</td>\n",
       "    </tr>\n",
       "    <tr>\n",
       "      <th>1</th>\n",
       "      <td>9888bba8-deea-445c-a48b-ddba6b83cb27</td>\n",
       "      <td>2020-01-01 08:47:00</td>\n",
       "      <td>Portsmouth, NH</td>\n",
       "      <td>98623454</td>\n",
       "      <td>cash</td>\n",
       "      <td>3.49</td>\n",
       "      <td>20</td>\n",
       "      <td>3.49</td>\n",
       "      <td>73.29</td>\n",
       "    </tr>\n",
       "    <tr>\n",
       "      <th>2</th>\n",
       "      <td>c05ac905-23b0-45db-b592-d9a37c3f7185</td>\n",
       "      <td>2020-01-01 08:57:00</td>\n",
       "      <td>Concord, NH</td>\n",
       "      <td>87245676</td>\n",
       "      <td>credit</td>\n",
       "      <td>10.99</td>\n",
       "      <td>22</td>\n",
       "      <td>12.09</td>\n",
       "      <td>253.87</td>\n",
       "    </tr>\n",
       "    <tr>\n",
       "      <th>3</th>\n",
       "      <td>2d1c740d-b09a-48ab-a369-cd7cef701188</td>\n",
       "      <td>2020-01-01 09:47:00</td>\n",
       "      <td>Portsmouth, NH</td>\n",
       "      <td>83846512</td>\n",
       "      <td>debit</td>\n",
       "      <td>4.99</td>\n",
       "      <td>10</td>\n",
       "      <td>2.50</td>\n",
       "      <td>52.40</td>\n",
       "    </tr>\n",
       "    <tr>\n",
       "      <th>4</th>\n",
       "      <td>5bc13f61-78af-4958-95a9-f6c20e84d9b8</td>\n",
       "      <td>2020-01-01 10:12:00</td>\n",
       "      <td>Portsmouth, NH</td>\n",
       "      <td>98623454</td>\n",
       "      <td>debit</td>\n",
       "      <td>3.49</td>\n",
       "      <td>9</td>\n",
       "      <td>1.57</td>\n",
       "      <td>32.98</td>\n",
       "    </tr>\n",
       "  </tbody>\n",
       "</table>\n",
       "</div>"
      ],
      "text/plain": [
       "                         transaction_id          created_at        location  \\\n",
       "0  0c53ce04-6185-4976-9f51-12222681a25b 2020-01-01 08:06:00    Portland, ME   \n",
       "1  9888bba8-deea-445c-a48b-ddba6b83cb27 2020-01-01 08:47:00  Portsmouth, NH   \n",
       "2  c05ac905-23b0-45db-b592-d9a37c3f7185 2020-01-01 08:57:00     Concord, NH   \n",
       "3  2d1c740d-b09a-48ab-a369-cd7cef701188 2020-01-01 09:47:00  Portsmouth, NH   \n",
       "4  5bc13f61-78af-4958-95a9-f6c20e84d9b8 2020-01-01 10:12:00  Portsmouth, NH   \n",
       "\n",
       "        sku payment_method  unit_price  quantity    tax   total  \n",
       "0  83846512          debit        4.99        21   5.24  110.03  \n",
       "1  98623454           cash        3.49        20   3.49   73.29  \n",
       "2  87245676         credit       10.99        22  12.09  253.87  \n",
       "3  83846512          debit        4.99        10   2.50   52.40  \n",
       "4  98623454          debit        3.49         9   1.57   32.98  "
      ]
     },
     "execution_count": 9,
     "metadata": {},
     "output_type": "execute_result"
    }
   ],
   "source": [
    "records_to_generate = 10000\n",
    "\n",
    "# Define starting timestamp\n",
    "ts = datetime(2020, 1, 1, 0, 0, 0)\n",
    "\n",
    "# Generate list of transactions as list of dictionaries\n",
    "transactions = []\n",
    "for i in range(records_to_generate):\n",
    "    sku = choice(list(PRODUCTS.keys()), p=[0.1, 0.15, 0.1, 0.4, 0.05, 0.2])\n",
    "    unit_price = UNIT_PRICES[sku]\n",
    "    qty = randint(1, 30)\n",
    "    tax = round(unit_price * qty * TAX_RATE, 2)\n",
    "    ts = next_timestamp(ts)\n",
    "\n",
    "    # Avoid generating data in the future\n",
    "    if ts >= datetime.now():\n",
    "        break\n",
    "\n",
    "    transactions.append({\n",
    "        \"transaction_id\": uuid4(),\n",
    "        \"created_at\": ts,\n",
    "        \"location\": choice(LOCATIONS, p=[0.25, 0.1, 0.15, 0.5]),\n",
    "        \"sku\": sku,\n",
    "        \"payment_method\": choice(PAYMENT_METHODS, p=[0.5, 0.4, 0.1]),\n",
    "        \"unit_price\": unit_price,\n",
    "        \"quantity\": qty,\n",
    "        \"tax\": tax,\n",
    "        \"total\": round(unit_price * qty + tax, 2)\n",
    "    })\n",
    "\n",
    "# Create DataFrame from records\n",
    "df = pd.DataFrame(transactions)\n",
    "\n",
    "# Save DataFrame to the database\n",
    "df.to_sql(\n",
    "    name=\"pos_transactions\",\n",
    "    con=engine,\n",
    "    if_exists=\"replace\",\n",
    "    index=False\n",
    ")\n",
    "df.head()"
   ]
  },
  {
   "cell_type": "markdown",
   "metadata": {
    "cell_id": "d2cb1b75d9b74a7ead2e8f4b8d9af737",
    "deepnote_cell_type": "markdown",
    "tags": []
   },
   "source": [
    "## Create `online_transactions` table\n",
    "These transactions contain data about products sold online through the farm's website. It uses a Stripe integration for payments. A webhook has been set up that receives the transaction data in JSON format and dumps it to a postgres table.\n",
    "\n",
    "The example was taken from Stripe's [official documentation](https://stripe.com/docs/api/treasury/received_debits)\n",
    "\n",
    "Since this data is coming from Stripe's API, we can reasonable expect that it will conform the the schema, so we don't need to introduce errors.\n"
   ]
  },
  {
   "cell_type": "code",
   "execution_count": 13,
   "metadata": {
    "cell_id": "e34c2fc543f04d98a6adce288219dac9",
    "deepnote_cell_type": "code",
    "deepnote_to_be_reexecuted": false,
    "execution_millis": 98,
    "execution_start": 1691019865496,
    "source_hash": null,
    "tags": []
   },
   "outputs": [],
   "source": [
    "def get_stripe_trx(amount, timestamp, product):\n",
    "    import time\n",
    "    return {\n",
    "        \"id\": f\"rd_{uuid4()}\",\n",
    "        \"object\": choice(PAYMENT_METHODS, p=[0, 0.8, 0.2]),\n",
    "        \"amount\": amount,\n",
    "        \"created\": int(time.mktime(timestamp.timetuple())),\n",
    "        \"currency\": \"usd\",\n",
    "        \"description\": product,\n",
    "        \"failure_code\": None,\n",
    "        \"financial_account\": \"fa_1M0ssL2eZvKYlo2CxpxElcdc\",\n",
    "        \"hosted_regulatory_receipt_url\": \"https://payments.stripe.com/regulatory-receipt/CBQaFwoVYWNjdF8xMDMyRDgyZVp2S1lsbzJDKOWLm5sGMgZpYhYRf1U6NpMOqjC0B048hqZyfKpl_OLHvSyHk6xOGyDC0EWRu2b_C5GFr-arpq9mh6OD622AFR459Sq9SA\",\n",
    "        \"initiating_payment_method_details\": {\n",
    "            \"billing_details\": {\n",
    "            \"address\": {\n",
    "                \"city\": None,\n",
    "                \"country\": None,\n",
    "                \"line1\": None,\n",
    "                \"line2\": None,\n",
    "                \"postal_code\": None,\n",
    "                \"state\": None\n",
    "            },\n",
    "            \"email\": None,\n",
    "            \"name\": \"Jane Austen\"\n",
    "            },\n",
    "            \"type\": \"us_bank_account\",\n",
    "            \"us_bank_account\": {\n",
    "            \"bank_name\": \"STRIPE TEST BANK\",\n",
    "            \"last4\": \"6789\",\n",
    "            \"routing_number\": \"110000000\"\n",
    "            }\n",
    "        },\n",
    "        \"linked_flows\": {\n",
    "            \"debit_reversal\": None,\n",
    "            \"inbound_transfer\": None,\n",
    "            \"issuing_authorization\": None,\n",
    "            \"issuing_transaction\": None\n",
    "        },\n",
    "        \"livemode\": False,\n",
    "        \"network\": \"ach\",\n",
    "        \"reversal_details\": {\n",
    "            \"deadline\": 1667865600,\n",
    "            \"restricted_reason\": None\n",
    "        },\n",
    "        \"status\": \"succeeded\",\n",
    "        \"transaction\": \"trxn_1M0ssL2eZvKYlo2CiSWY33W5\"\n",
    "    }"
   ]
  },
  {
   "cell_type": "code",
   "execution_count": 14,
   "metadata": {
    "cell_id": "8b16fd781e704602a28057beff7e230b",
    "deepnote_cell_type": "code",
    "deepnote_to_be_reexecuted": false,
    "execution_millis": 1626,
    "execution_start": 1691019865515,
    "source_hash": null,
    "tags": []
   },
   "outputs": [
    {
     "data": {
      "text/html": [
       "<div>\n",
       "<style scoped>\n",
       "    .dataframe tbody tr th:only-of-type {\n",
       "        vertical-align: middle;\n",
       "    }\n",
       "\n",
       "    .dataframe tbody tr th {\n",
       "        vertical-align: top;\n",
       "    }\n",
       "\n",
       "    .dataframe thead th {\n",
       "        text-align: right;\n",
       "    }\n",
       "</style>\n",
       "<table border=\"1\" class=\"dataframe\">\n",
       "  <thead>\n",
       "    <tr style=\"text-align: right;\">\n",
       "      <th></th>\n",
       "      <th>stripe_data</th>\n",
       "    </tr>\n",
       "  </thead>\n",
       "  <tbody>\n",
       "    <tr>\n",
       "      <th>0</th>\n",
       "      <td>{'id': 'rd_d367c016-d905-4ab9-92de-72dffa6bea9...</td>\n",
       "    </tr>\n",
       "    <tr>\n",
       "      <th>1</th>\n",
       "      <td>{'id': 'rd_9f02b22e-1117-4d4c-9f67-115557de3ae...</td>\n",
       "    </tr>\n",
       "    <tr>\n",
       "      <th>2</th>\n",
       "      <td>{'id': 'rd_b93e5b70-146d-4920-a90b-8a68ad31add...</td>\n",
       "    </tr>\n",
       "    <tr>\n",
       "      <th>3</th>\n",
       "      <td>{'id': 'rd_ea996ee3-6135-49e5-a7bb-11f2ebf567f...</td>\n",
       "    </tr>\n",
       "    <tr>\n",
       "      <th>4</th>\n",
       "      <td>{'id': 'rd_06a272da-c9d9-4a4e-a329-18d8ffad45f...</td>\n",
       "    </tr>\n",
       "  </tbody>\n",
       "</table>\n",
       "</div>"
      ],
      "text/plain": [
       "                                         stripe_data\n",
       "0  {'id': 'rd_d367c016-d905-4ab9-92de-72dffa6bea9...\n",
       "1  {'id': 'rd_9f02b22e-1117-4d4c-9f67-115557de3ae...\n",
       "2  {'id': 'rd_b93e5b70-146d-4920-a90b-8a68ad31add...\n",
       "3  {'id': 'rd_ea996ee3-6135-49e5-a7bb-11f2ebf567f...\n",
       "4  {'id': 'rd_06a272da-c9d9-4a4e-a329-18d8ffad45f..."
      ]
     },
     "execution_count": 14,
     "metadata": {},
     "output_type": "execute_result"
    }
   ],
   "source": [
    "records_to_generate = 1000\n",
    "\n",
    "# Define starting timestamp\n",
    "ts = datetime(2020, 1, 1, 0, 0, 0)\n",
    "\n",
    "# Generate list of transactions as list of dictionaries\n",
    "transactions = []\n",
    "for i in range(records_to_generate):\n",
    "    sku = choice(list(PRODUCTS.keys()), p=[0.15, 0.2, 0.3, 0.1, 0.1, 0.15])\n",
    "    product = PRODUCTS[sku]\n",
    "    unit_price = UNIT_PRICES[sku]\n",
    "    qty = randint(1, 30)\n",
    "    tax = round(unit_price * qty * TAX_RATE, 2)\n",
    "    ts = next_timestamp(ts)\n",
    "\n",
    "    # Avoid generating data in the future\n",
    "    if ts >= datetime.now():\n",
    "        break\n",
    "\n",
    "    amount = round(unit_price * qty + tax, 2)\n",
    "\n",
    "    stripe_trx = get_stripe_trx(amount, ts, product)\n",
    "\n",
    "    transactions.append({\"stripe_data\": stripe_trx})\n",
    "\n",
    "# Create DataFrame from records\n",
    "df = pd.DataFrame(transactions)\n",
    "\n",
    "# Save DataFrame to database\n",
    "df.to_sql(\n",
    "    name=\"online_transactions\",\n",
    "    con=engine,\n",
    "    if_exists=\"replace\",\n",
    "    index=False,\n",
    "    dtype={\"stripe_data\": sqlalchemy.types.JSON},\n",
    ")\n",
    "\n",
    "df.head()"
   ]
  },
  {
   "cell_type": "markdown",
   "metadata": {
    "cell_id": "900ce8d2729445e792c95796a25c773b",
    "deepnote_cell_type": "markdown",
    "tags": []
   },
   "source": [
    "## Create `market_transactions` table\n",
    "These are records from sales made by various employees at different farmers markets. The data was manually entered to an Excel table then uploaded to Google Drive. The file name normally follows a schema that identifies the market location, employee and market date.\n",
    "\n",
    "Since all of this data was entered manually, we can expect all kinds of errors: \n",
    "1. Misspelling\n",
    "2. Missing values\n",
    "3. Invalid date formats\n",
    "4. File names not conforming to the schema\n",
    "We will add all of these to the generated data."
   ]
  },
  {
   "cell_type": "code",
   "execution_count": 15,
   "metadata": {
    "cell_id": "fc0b826f2e144d51817b7200e80576ba",
    "deepnote_cell_type": "code",
    "deepnote_to_be_reexecuted": false,
    "execution_millis": 144,
    "execution_start": 1691019866606,
    "source_hash": null,
    "tags": []
   },
   "outputs": [],
   "source": [
    "def replace_letters(string):\n",
    "    \"\"\"\n",
    "    With 5% chance it replaces some letters in the passed string. The number of replaced letters\n",
    "    is also choosen randomly, at minimum 1, at maximum all of the letters gets replaced.\n",
    "    With another 5% chance, nothing is returned.\n",
    "    This should imitate typos and missing data in manually input data.\n",
    "    \"\"\"\n",
    "\n",
    "    alphabet = \"abcdefghijklmnopqrstuvwxyz\"\n",
    "    roll = random()\n",
    "\n",
    "    if roll < 0.05:\n",
    "        letter_count_to_replace = randint(1, len(string))\n",
    "        for i in range(letter_count_to_replace):\n",
    "            letter_to_replace = randint(0, len(string) - 1)\n",
    "            string = list(string)\n",
    "            string[letter_to_replace] = choice(string)\n",
    "            string = \"\".join(string)\n",
    "        return string\n",
    "    elif 0.05 <= roll < 0.1:\n",
    "        return \"\"\n",
    "    else:\n",
    "        return string"
   ]
  },
  {
   "cell_type": "code",
   "execution_count": 16,
   "metadata": {
    "cell_id": "b6195a399afb4f2ba9d1fa0de0332f00",
    "deepnote_cell_type": "code",
    "deepnote_to_be_reexecuted": false,
    "execution_millis": 54,
    "execution_start": 1691019866647,
    "source_hash": null,
    "tags": []
   },
   "outputs": [],
   "source": [
    "def malform_date(ts):\n",
    "    date_roll = random()\n",
    "    if date_roll < 0.05:\n",
    "        # 5% chance of different year formatting\n",
    "        date = ts.strftime('%y-%m-%d')\n",
    "    elif 0.05 <= date_roll and date_roll < 0.1:\n",
    "        # 5% chance of invalid month\n",
    "        date = ts.strftime('%Y-%m-%d')\n",
    "        year, month, day = date.split(\"-\")\n",
    "        month = int(month) + 12\n",
    "        date = f\"{year}-{month}-{day}\"\n",
    "    elif 0.1 <= date_roll and date_roll < 0.15:\n",
    "        # 5% chance of different separator\n",
    "        date = ts.strftime('%y %m %d')\n",
    "    else:\n",
    "        # 85% chance of valid date\n",
    "        date = ts.strftime('%Y-%m-%d')\n",
    "\n",
    "    return date"
   ]
  },
  {
   "cell_type": "code",
   "execution_count": 17,
   "metadata": {
    "cell_id": "24deaf083352470a88c6bf57134bb078",
    "deepnote_cell_type": "code",
    "deepnote_to_be_reexecuted": false,
    "execution_millis": 27,
    "execution_start": 1691019866648,
    "source_hash": null,
    "tags": []
   },
   "outputs": [],
   "source": [
    "def malform_filename(location, date, employee):\n",
    "    filename_roll = random()\n",
    "    if filename_roll < 0.05:\n",
    "        # 5% chance for wrong separator\n",
    "        filename = f\"{location}-{date}-{employee}\"\n",
    "    else:\n",
    "        # 95% chance for correct filename\n",
    "        filename = f\"{location}__{date}__{employee}\"\n",
    "    \n",
    "    return filename"
   ]
  },
  {
   "cell_type": "code",
   "execution_count": 18,
   "metadata": {
    "cell_id": "37357ce5bb604678bc579363b5884139",
    "deepnote_cell_type": "code",
    "deepnote_to_be_reexecuted": false,
    "execution_millis": 41,
    "execution_start": 1691019866649,
    "source_hash": null,
    "tags": []
   },
   "outputs": [],
   "source": [
    "def malform_time(ts):\n",
    "    time_roll = random()\n",
    "    if time_roll < 0.05:\n",
    "        # 5% chance for invalid minute\n",
    "        sold_at = ts.strftime(\"%H:%M\")\n",
    "        hours, minutes = sold_at.split(\":\")\n",
    "        sold_at = f\"{hours}:{int(minutes) + 60}\"\n",
    "    else:\n",
    "        sold_at = ts.strftime(\"%H:%M\")\n",
    "    \n",
    "    return sold_at"
   ]
  },
  {
   "cell_type": "code",
   "execution_count": 19,
   "metadata": {
    "cell_id": "91686af4cc7c49dba9ab7079725e206f",
    "deepnote_cell_type": "code",
    "deepnote_to_be_reexecuted": false,
    "execution_millis": 878,
    "execution_start": 1691019866651,
    "source_hash": null,
    "tags": []
   },
   "outputs": [],
   "source": [
    "if is_local:\n",
    "    root_dir = \"./\"\n",
    "else:\n",
    "    root_dir = '/datasets/drive/'\n",
    "\n",
    "markets_path = Path(root_dir) / \"markets\"\n",
    "    \n",
    "# Create directory if doesn't exist\n",
    "if not os.path.exists(markets_path):\n",
    "   os.makedirs(markets_path)\n",
    "\n",
    "# Remove existing files\n",
    "for f in os.scandir(markets_path):\n",
    "    os.remove(f.path)"
   ]
  },
  {
   "cell_type": "code",
   "execution_count": 20,
   "metadata": {
    "cell_id": "a67ee9984c3f4022997ec10983f2b336",
    "deepnote_cell_type": "code",
    "deepnote_to_be_reexecuted": false,
    "execution_millis": 149371,
    "execution_start": 1691019867523,
    "source_hash": null,
    "tags": []
   },
   "outputs": [],
   "source": [
    "files_to_generate = 75\n",
    "\n",
    "start_date = datetime(2020, 1, 1, 6, 0, 0)\n",
    "for event_index in range(files_to_generate):\n",
    "    # Space out events one week from each other\n",
    "    ts = start_date + timedelta(days=event_index * 2 + 1)\n",
    "\n",
    "    # Avoid generating data in the future\n",
    "    if ts >= datetime.now():\n",
    "        break\n",
    "\n",
    "    # Generate location and employee with possible typos\n",
    "    location = replace_letters(choice(LOCATIONS))\n",
    "    employee = replace_letters(choice(EMPLOYEES))\n",
    "    date = malform_date(ts)\n",
    "    filename = malform_filename(location, date, employee)\n",
    "\n",
    "    transactions = []\n",
    "    for i in range(100):\n",
    "        sku = choice(list(PRODUCTS.keys()), p=[0.2, 0.05, 0.2, 0.3, 0.05, 0.2])\n",
    "        sold_at = malform_time(ts)\n",
    "        product = replace_letters(PRODUCTS[sku])\n",
    "        unit_price = UNIT_PRICES[sku]\n",
    "\n",
    "        # Sell more in the summer\n",
    "        factor = 1\n",
    "        if ts.month in [5, 6, 7, 8]:\n",
    "            factor = 1.2\n",
    "            \n",
    "        qty = round(randint(1, 10) * factor)\n",
    "        ts = next_timestamp(ts)\n",
    "\n",
    "        transactions.append({\n",
    "            \"sale_number\": i + 1,\n",
    "            \"sold_at\": sold_at,\n",
    "            \"product\": product,\n",
    "            \"unit_price\": unit_price,\n",
    "            \"quantity\": qty,\n",
    "        })\n",
    "\n",
    "        # Stop adding new sales after 4 PM\n",
    "        if int(ts.hour) > 15:\n",
    "            break\n",
    "\n",
    "    # Create DataFrame from records\n",
    "    df = pd.DataFrame(transactions)\n",
    "\n",
    "    # Dump DataFrame to disk (which is an emulated Google Drive)\n",
    "    if is_local:\n",
    "        path = \"./markets/{filename}.xlsx\"\n",
    "    else:\n",
    "        path = f\"/datasets/drive/markets/{filename}.xlsx\"\n",
    "    df.to_excel(path)"
   ]
  },
  {
   "cell_type": "markdown",
   "metadata": {
    "cell_id": "79bd0dc313ac48a8abf91eca668ac7be",
    "deepnote_cell_type": "markdown",
    "tags": []
   },
   "source": [
    "## Create `crypto_transactions` table\n",
    "These records are coming from berry sales that were paid for by Ethereum. These were generated by an automated system, so we don't expect typos here. The only difference is that the totals are saved in ETH, not in USD. To be able to accurately calculate those, we need daily price data of ETH."
   ]
  },
  {
   "cell_type": "code",
   "execution_count": 21,
   "metadata": {
    "cell_id": "9c8b2fcef22d49e8b5f38992c2a788c4",
    "deepnote_cell_type": "code",
    "deepnote_to_be_reexecuted": false,
    "execution_millis": 10,
    "execution_start": 1691020333657,
    "source_hash": null
   },
   "outputs": [
    {
     "data": {
      "text/plain": [
       "datetime.datetime(2023, 8, 12, 21, 41, 30, 656237)"
      ]
     },
     "execution_count": 21,
     "metadata": {},
     "output_type": "execute_result"
    }
   ],
   "source": [
    "datetime.now()"
   ]
  },
  {
   "cell_type": "code",
   "execution_count": 22,
   "metadata": {
    "cell_id": "5891d6d6f4ed4434ae03bd25af98d284",
    "deepnote_cell_type": "code",
    "deepnote_to_be_reexecuted": false,
    "execution_millis": 452,
    "execution_start": 1691021296297,
    "source_hash": null,
    "tags": []
   },
   "outputs": [
    {
     "name": "stdout",
     "output_type": "stream",
     "text": [
      "[*********************100%***********************]  1 of 1 completed\n"
     ]
    },
    {
     "data": {
      "text/html": [
       "<div>\n",
       "<style scoped>\n",
       "    .dataframe tbody tr th:only-of-type {\n",
       "        vertical-align: middle;\n",
       "    }\n",
       "\n",
       "    .dataframe tbody tr th {\n",
       "        vertical-align: top;\n",
       "    }\n",
       "\n",
       "    .dataframe thead th {\n",
       "        text-align: right;\n",
       "    }\n",
       "</style>\n",
       "<table border=\"1\" class=\"dataframe\">\n",
       "  <thead>\n",
       "    <tr style=\"text-align: right;\">\n",
       "      <th></th>\n",
       "      <th>Open</th>\n",
       "      <th>High</th>\n",
       "      <th>Low</th>\n",
       "      <th>Close</th>\n",
       "      <th>Adj Close</th>\n",
       "      <th>Volume</th>\n",
       "    </tr>\n",
       "    <tr>\n",
       "      <th>Date</th>\n",
       "      <th></th>\n",
       "      <th></th>\n",
       "      <th></th>\n",
       "      <th></th>\n",
       "      <th></th>\n",
       "      <th></th>\n",
       "    </tr>\n",
       "  </thead>\n",
       "  <tbody>\n",
       "    <tr>\n",
       "      <th>2020-01-01</th>\n",
       "      <td>129.630661</td>\n",
       "      <td>132.835358</td>\n",
       "      <td>129.198288</td>\n",
       "      <td>130.802002</td>\n",
       "      <td>130.802002</td>\n",
       "      <td>7935230330</td>\n",
       "    </tr>\n",
       "    <tr>\n",
       "      <th>2020-01-02</th>\n",
       "      <td>130.820038</td>\n",
       "      <td>130.820038</td>\n",
       "      <td>126.954910</td>\n",
       "      <td>127.410179</td>\n",
       "      <td>127.410179</td>\n",
       "      <td>8032709256</td>\n",
       "    </tr>\n",
       "  </tbody>\n",
       "</table>\n",
       "</div>"
      ],
      "text/plain": [
       "                  Open        High         Low       Close   Adj Close  \\\n",
       "Date                                                                     \n",
       "2020-01-01  129.630661  132.835358  129.198288  130.802002  130.802002   \n",
       "2020-01-02  130.820038  130.820038  126.954910  127.410179  127.410179   \n",
       "\n",
       "                Volume  \n",
       "Date                    \n",
       "2020-01-01  7935230330  \n",
       "2020-01-02  8032709256  "
      ]
     },
     "execution_count": 22,
     "metadata": {},
     "output_type": "execute_result"
    }
   ],
   "source": [
    "# Get ETH price year to date\n",
    "yf.pdr_override()\n",
    "ts = datetime(2020, 1, 1, 0, 0, 0)\n",
    "\n",
    "eth_price = web.get_data_yahoo('ETH-USD', ts, datetime.now())\n",
    "eth_price.head(2)"
   ]
  },
  {
   "cell_type": "code",
   "execution_count": 23,
   "metadata": {
    "cell_id": "beac5342debb4d7599cbd514874d7190",
    "deepnote_cell_type": "code",
    "deepnote_to_be_reexecuted": false,
    "execution_millis": 658,
    "execution_start": 1691021356365,
    "source_hash": null,
    "tags": []
   },
   "outputs": [
    {
     "data": {
      "text/plain": [
       "100"
      ]
     },
     "execution_count": 23,
     "metadata": {},
     "output_type": "execute_result"
    }
   ],
   "source": [
    "records_to_generate = 100\n",
    "\n",
    "transactions = []\n",
    "for i in range(records_to_generate):\n",
    "    sku = choice(list(PRODUCTS.keys()), p=[0.1, 0.15, 0.1, 0.4, 0.05, 0.2])\n",
    "    unit_price = UNIT_PRICES[sku]\n",
    "    qty = randint(1, 30)\n",
    "    tax = round(unit_price * qty * TAX_RATE, 2)\n",
    "    ts = next_timestamp(ts)\n",
    "\n",
    "    # Avoid generating data in the future\n",
    "    if ts >= datetime.now():\n",
    "        break\n",
    "\n",
    "    # Get opening price of ETH in the day of the transaction\n",
    "    dt_index = ts.strftime(\"%Y-%m-%d\")\n",
    "    eth_prev_open = eth_price.loc[dt_index][\"Open\"]\n",
    "\n",
    "    transactions.append({\n",
    "        \"transaction_id\": uuid4(),\n",
    "        \"created_at\": ts,\n",
    "        \"location\": \"main_farm\",\n",
    "        \"sku\": sku,\n",
    "        \"payment_method\": \"crypto\",\n",
    "        \"currency\": \"ETH\",\n",
    "        \"quantity\": qty,\n",
    "        \"total\": round(unit_price * qty + tax, 2) / eth_prev_open\n",
    "    })\n",
    "\n",
    "# Create DataFrame from records\n",
    "df = pd.DataFrame(transactions)\n",
    "\n",
    "# Save DataFrame to the database\n",
    "df.to_sql(\n",
    "    name=\"crypto_transactions\",\n",
    "    con=engine,\n",
    "    if_exists=\"replace\",\n",
    "    index=False\n",
    ")"
   ]
  },
  {
   "cell_type": "markdown",
   "metadata": {
    "created_in_deepnote_cell": true,
    "deepnote_cell_type": "markdown"
   },
   "source": [
    "<a style='text-decoration:none;line-height:16px;display:flex;color:#5B5B62;padding:10px;justify-content:end;' href='https://deepnote.com?utm_source=created-in-deepnote-cell&projectId=c04fa194-d26c-4dab-9fd8-89b201f057ca' target=\"_blank\">\n",
    "<img alt='Created in deepnote.com' style='display:inline;max-height:16px;margin:0px;margin-right:7.5px;' src='data:image/svg+xml;base64,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' > </img>\n",
    "Created in <span style='font-weight:600;margin-left:4px;'>Deepnote</span></a>"
   ]
  }
 ],
 "metadata": {
  "deepnote": {},
  "deepnote_execution_queue": [],
  "deepnote_notebook_id": "35bdbc3c46394f5ba73db84dd7f53921",
  "deepnote_persisted_session": {
   "createdAt": "2023-08-03T00:31:40.323Z"
  },
  "kernelspec": {
   "display_name": "Python 3 (ipykernel)",
   "language": "python",
   "name": "python3"
  },
  "language_info": {
   "codemirror_mode": {
    "name": "ipython",
    "version": 3
   },
   "file_extension": ".py",
   "mimetype": "text/x-python",
   "name": "python",
   "nbconvert_exporter": "python",
   "pygments_lexer": "ipython3",
   "version": "3.11.2"
  }
 },
 "nbformat": 4,
 "nbformat_minor": 4
}
